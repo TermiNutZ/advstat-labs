{
 "cells": [
  {
   "cell_type": "markdown",
   "metadata": {},
   "source": [
    "# Lab 04\n",
    "## Central Limit Theorem (CLT)\n",
    "\n",
    "\n",
    "The theorem says that under rather general circumstances, if you sum *independent* random variables and normalize\n",
    "them accordingly, then at the limit (when you sum lots of them) you’ll get a normal distribution.\n",
    "\n",
    "The classical version of CLT states that:\n",
    "\n",
    "Suppose that $X_i$ are independent, identically distributed random variables with mean $\\mu$ and variance $\\sigma^2$.\n",
    "\n",
    "Then $\\frac{\\sum_i^n{X_i} - n\\mu }{\\sigma \\sqrt{n}} \\rightarrow N (0, 1).$\n",
    "\n",
    "The meaning of $Y_n \\rightarrow Y$ is as follows: for each interval [a, b],\n",
    "$Pr[a ≤ Y_n ≤ b]  \\rightarrow Pr[a ≤ Y ≤ b].$\n",
    "\n",
    "Note that the type of distribution of $X_i$ is not specified.\n"
   ]
  },
  {
   "cell_type": "markdown",
   "metadata": {},
   "source": [
    "### Exercise 0\n",
    "Let $S_n = \\sum_{i=1}^{n}U_i$ for $n = 1, 2,..., 12$ - the sum of 12 uniform distributions. \n",
    "\n",
    "What is the mean and the variance?\n",
    "\n",
    "Sample from $S_n$ 1000 times and plot the histogram of its normalized sample distribution ($\\frac{\\sum_i^n{X_i} - n\\mu }{\\sigma \\sqrt{n}}$).\n",
    "Plot the pdf for asymptotic Gaussian."
   ]
  },
  {
   "cell_type": "code",
   "execution_count": 1,
   "metadata": {
    "collapsed": true
   },
   "outputs": [],
   "source": [
    "import numpy as np\n",
    "np.random.seed(42)\n",
    "N = 12\n",
    "samples = np.zeros(1000)\n",
    "for i in xrange(1000):\n",
    "    u = np.random.uniform(size=N)\n",
    "    samples[i] = (np.sum(u) - (N/2))"
   ]
  },
  {
   "cell_type": "code",
   "execution_count": 2,
   "metadata": {
    "collapsed": false
   },
   "outputs": [
    {
     "data": {
      "image/png": "[encoded data removed]",
      "text/plain": [
       "<matplotlib.figure.Figure at 0x7f2161f95ed0>"
      ]
     },
     "metadata": {},
     "output_type": "display_data"
    }
   ],
   "source": [
    "import matplotlib.pyplot as plt\n",
    "from scipy.stats import norm\n",
    "%matplotlib inline\n",
    "# 1\n",
    "x = np.linspace(-3,3)\n",
    "plt.hist(samples, 30, normed=True);\n",
    "dist_asympt = norm(0,1)\n",
    "plt.plot(x, dist_asympt.pdf(x));\n"
   ]
  },
  {
   "cell_type": "markdown",
   "metadata": {},
   "source": [
    "### Exercise 1\n",
    "Without the usage of statistical packages sample from binomial distribution (imitating 5 coin tosses) 10000 times. \n",
    "\n",
    "Plot the histogram of sample distribution (with any convenient packages).\n",
    "\n",
    "Plot the pdf of a Gaussian to which the binomial distribution should converge asymptotically. The parameters for this Gaussian can be estimated using CLT, consider the binomial distribution as a distribution of the sum of independent random variables.\n",
    "\n",
    "Repeat the same procedure for 10 and 100 coin tosses."
   ]
  },
  {
   "cell_type": "code",
   "execution_count": 19,
   "metadata": {
    "collapsed": true
   },
   "outputs": [],
   "source": [
    "# 1. sample from binomial distribution (n=100) without using statistical packages.\n",
    "import random\n",
    "\n",
    "def binomial_generator(n=100):\n",
    "    sum = 0\n",
    "    for i in xrange(n):\n",
    "        sum += random.randint(0, 1)\n",
    "    return np.array(sum)"
   ]
  },
  {
   "cell_type": "code",
   "execution_count": 24,
   "metadata": {
    "collapsed": false
   },
   "outputs": [
    {
     "name": "stdout",
     "output_type": "stream",
     "text": [
      "[ 1.34164079  1.34164079  1.34164079  3.13049517  2.23606798  2.23606798\n",
      "  1.34164079  0.4472136   2.23606798  0.4472136 ]\n"
     ]
    },
    {
     "data": {
      "image/png": "[encoded data removed]",
      "text/plain": [
       "<matplotlib.figure.Figure at 0x7f21546bc550>"
      ]
     },
     "metadata": {},
     "output_type": "display_data"
    }
   ],
   "source": [
    "# 2. plot the histogram of sample and pdf of a Gaussian.\n",
    "def get_sample(n = 5):\n",
    "    samples = np.zeros(10000)\n",
    "    for i in xrange(10000):\n",
    "        u = binomial_generator(n)\n",
    "        samples[i] = (u.mean() - 0.5)/(0.5*np.sqrt(n))\n",
    "    return samples\n",
    "\n",
    "sample = get_sample(5)\n",
    "print sample[:10]\n",
    "x = np.linspace(-3, 3)\n",
    "plt.hist(samples, 10);\n",
    "dist_asympt = norm(0, 1)\n",
    "plt.plot(x, dist_asympt.pdf(x));"
   ]
  },
  {
   "cell_type": "code",
   "execution_count": 16,
   "metadata": {
    "collapsed": false
   },
   "outputs": [
    {
     "data": {
      "image/png": "[encoded data removed]",
      "text/plain": [
       "<matplotlib.figure.Figure at 0x7f2157166a90>"
      ]
     },
     "metadata": {},
     "output_type": "display_data"
    }
   ],
   "source": [
    "# 3. repeat the same procedure with n = 10, 100.\n",
    "plt.figure(figsize=(20,10))\n",
    "#10\n",
    "for i, n in enumerate([10, 100]):\n",
    "    ax = plt.subplot(2, 3, i+1)\n",
    "    ax.set_title(n)\n",
    "    samples = get_sample(n)\n",
    "    x = np.linspace(-3, 3)\n",
    "    ax.hist(samples, 50, normed = True);\n",
    "    dist_asympt = norm(0, 1)\n",
    "    ax.plot(x, dist_asympt.pdf(x));"
   ]
  },
  {
   "cell_type": "markdown",
   "metadata": {},
   "source": [
    "### Exercise 2"
   ]
  },
  {
   "cell_type": "markdown",
   "metadata": {},
   "source": [
    "The average height of adult male in Russia is 177.2 cm with standard deviation 7.42.\n",
    "We suppose that the distribution of the height is Gaussain.\n",
    "Imagine that we take samples of 100 men and measure their height. What will be the distribution of the means for these samples?\n",
    "\n",
    "\n",
    "Depict the original distribution.\n",
    "\n",
    "Make random samples of size 100 from original distribution.\n",
    "Depict the empirical distribution of the sample means and the asymptotical distribution of sample means from CLT."
   ]
  },
  {
   "cell_type": "code",
   "execution_count": 6,
   "metadata": {
    "collapsed": false
   },
   "outputs": [
    {
     "data": {
      "image/png": "[encoded data removed]",
      "text/plain": [
       "<matplotlib.figure.Figure at 0x4ad3080>"
      ]
     },
     "metadata": {},
     "output_type": "display_data"
    }
   ],
   "source": [
    "# 1. Depict the original distribution of male height.\n",
    "dist_asympt = norm(177.2, 7.42)\n",
    "x = np.linspace(140, 220)\n",
    "plt.plot(x, dist_asympt.pdf(x));"
   ]
  },
  {
   "cell_type": "code",
   "execution_count": 7,
   "metadata": {
    "collapsed": true
   },
   "outputs": [],
   "source": [
    "# 2. Make random samples of size 100\n",
    "samples = np.zeros(1000)\n",
    "for i in xrange(1000):\n",
    "    u = np.random.normal(177.2, 7.42, size=100)\n",
    "    samples[i] = (np.sum(u) - 100.0*177.2)/(7.42*10)"
   ]
  },
  {
   "cell_type": "code",
   "execution_count": 8,
   "metadata": {
    "collapsed": false
   },
   "outputs": [
    {
     "data": {
      "image/png": "[encoded data removed]",
      "text/plain": [
       "<matplotlib.figure.Figure at 0x9de3f60>"
      ]
     },
     "metadata": {},
     "output_type": "display_data"
    }
   ],
   "source": [
    "# 3. Depict the empirical distribution of the sample means and \n",
    "# the asymptotical distribution of sample means from CLT\n",
    "x = np.linspace(-3, 3)\n",
    "plt.hist(samples, 10, normed = True);\n",
    "dist_asympt = norm(0, 1)\n",
    "plt.plot(x, dist_asympt.pdf(x));"
   ]
  },
  {
   "cell_type": "markdown",
   "metadata": {},
   "source": [
    "## Multiple comparison problem\n",
    "\n"
   ]
  },
  {
   "cell_type": "markdown",
   "metadata": {},
   "source": [
    "When many correlation coefficients are calculated from a given set of data, the risk of obtaining significant results by chance is increased.\n",
    "\n",
    "There are several algorithms to deal with this problem.\n",
    "Let's say we fix our level of type I error to $\\alpha$.\n",
    "\n",
    "**Bonferroni**\n",
    "\n",
    "Bonferroni method simply reduces $\\alpha$ level to $\\frac{\\alpha}{k}$ where $k$ - the number of comparisons.\n",
    "\n",
    "It is very conservative though quite popular for its simplicity.\n",
    "\n",
    "\n",
    "**Holm**\n",
    "\n",
    "For Holm correction you should sort p-values in ascending order and find the smallest one that satisfies: $p>\\frac{\\alpha}{k+1−i}$, where $i$ is the index in sorted array. \n",
    "\n",
    "This p-value and the ones that are larger are considered insignificant.\n",
    "\n",
    "**Benjamini-Hochberg**\n",
    "\n",
    "In ordered array of p-values find the largest one that satisfies: $p≤\\frac{i}{k}\\alpha$. Then this p-value and all smaller ones are considered significant.\n",
    "\n",
    "The first two procedures control *Family Wise Error Rate* (FWER) i.e. the probability of making at least 1 error of type I. Both Bonferroni and Holm guarantee that the FWER will be not more than given level $\\alpha$.\n",
    "\n",
    "While the last method works with *False Discovery Rate* (FDR) controling the expected number of type I errors. It is then less conservative. Benjamini-Hochberg guarantees that the expected proportion of false discoveries (type I errors) over all discoveries (rejected null hypothesis) is not greater then given $\\alpha$."
   ]
  },
  {
   "cell_type": "markdown",
   "metadata": {},
   "source": [
    "### Exercise 3\n",
    "*Description*\n",
    "\n",
    "There is a hypothesis that some genes are responsible for human body height. \n",
    "\n",
    "Full genome sequencing was performed for 2535 people from different countries i.e. the full sequence of DNA was obtained. The DNA sequence is encoded in 4 letters corresponding to different nucleotides ('A','C','G','T').\n",
    "\n",
    "SNP (Single Nucleotide Polymorphism) is a position in genome where variation of 1 nucleotide exists in population.\n",
    "For example, most of the people can have nucleotide 'A' in this position, while some others have nucleotide 'C'.\n",
    "\n",
    "You are given the data of 5 SNP's. The data is encoded in *0,1,2*. *0* corresponds to most popular variation, *2* - less popular, *1* - is the mix of both variations (remember, we inherit 2 variants from both parents).\n",
    "\n",
    "\n",
    "*Task*\n",
    "\n",
    "1. Read the data from 'data/snp.csv' file. \n",
    "\n",
    "1. Perform the 1-way ANOVA test to check whether the means of 'Height' differ in groups.\n",
    "Get the p-value for each SNP.\n",
    "\n",
    "1. Perform the correction of the multiple comparison using any method (any library).\n",
    "\n",
    "1. Make a conclusion about which SNP are connected with the human height and which are not."
   ]
  },
  {
   "cell_type": "code",
   "execution_count": 13,
   "metadata": {
    "collapsed": false
   },
   "outputs": [
    {
     "data": {
      "text/html": [
       "<div>\n",
       "<style>\n",
       "    .dataframe thead tr:only-child th {\n",
       "        text-align: right;\n",
       "    }\n",
       "\n",
       "    .dataframe thead th {\n",
       "        text-align: left;\n",
       "    }\n",
       "\n",
       "    .dataframe tbody tr th {\n",
       "        vertical-align: top;\n",
       "    }\n",
       "</style>\n",
       "<table border=\"1\" class=\"dataframe\">\n",
       "  <thead>\n",
       "    <tr style=\"text-align: right;\">\n",
       "      <th></th>\n",
       "      <th>ID</th>\n",
       "      <th>rs16966703</th>\n",
       "      <th>rs10816533</th>\n",
       "      <th>rs7859940</th>\n",
       "      <th>rs2793701</th>\n",
       "      <th>rs7606245</th>\n",
       "      <th>Height</th>\n",
       "    </tr>\n",
       "  </thead>\n",
       "  <tbody>\n",
       "    <tr>\n",
       "      <th>0</th>\n",
       "      <td>HG01914</td>\n",
       "      <td>1</td>\n",
       "      <td>0</td>\n",
       "      <td>2</td>\n",
       "      <td>0</td>\n",
       "      <td>1</td>\n",
       "      <td>184.38</td>\n",
       "    </tr>\n",
       "    <tr>\n",
       "      <th>1</th>\n",
       "      <td>HG01985</td>\n",
       "      <td>0</td>\n",
       "      <td>1</td>\n",
       "      <td>1</td>\n",
       "      <td>1</td>\n",
       "      <td>1</td>\n",
       "      <td>174.55</td>\n",
       "    </tr>\n",
       "    <tr>\n",
       "      <th>2</th>\n",
       "      <td>HG01986</td>\n",
       "      <td>1</td>\n",
       "      <td>2</td>\n",
       "      <td>2</td>\n",
       "      <td>0</td>\n",
       "      <td>1</td>\n",
       "      <td>175.20</td>\n",
       "    </tr>\n",
       "    <tr>\n",
       "      <th>3</th>\n",
       "      <td>HG02013</td>\n",
       "      <td>1</td>\n",
       "      <td>1</td>\n",
       "      <td>2</td>\n",
       "      <td>1</td>\n",
       "      <td>1</td>\n",
       "      <td>167.59</td>\n",
       "    </tr>\n",
       "    <tr>\n",
       "      <th>4</th>\n",
       "      <td>HG02051</td>\n",
       "      <td>0</td>\n",
       "      <td>0</td>\n",
       "      <td>2</td>\n",
       "      <td>0</td>\n",
       "      <td>0</td>\n",
       "      <td>182.53</td>\n",
       "    </tr>\n",
       "  </tbody>\n",
       "</table>\n",
       "</div>"
      ],
      "text/plain": [
       "        ID  rs16966703  rs10816533  rs7859940  rs2793701  rs7606245  Height\n",
       "0  HG01914           1           0          2          0          1  184.38\n",
       "1  HG01985           0           1          1          1          1  174.55\n",
       "2  HG01986           1           2          2          0          1  175.20\n",
       "3  HG02013           1           1          2          1          1  167.59\n",
       "4  HG02051           0           0          2          0          0  182.53"
      ]
     },
     "execution_count": 13,
     "metadata": {},
     "output_type": "execute_result"
    }
   ],
   "source": [
    "import pandas as pd\n",
    "\n",
    "features = ['rs7859940', 'rs10816533', 'rs16966703', 'rs2793701', 'rs7606245']\n",
    "data = pd.read_csv('data/snp.csv')\n",
    "data.head()"
   ]
  },
  {
   "cell_type": "code",
   "execution_count": 44,
   "metadata": {
    "collapsed": false
   },
   "outputs": [
    {
     "data": {
      "text/plain": [
       "array([['rs7859940', '3.04465007411e-09'],\n",
       "       ['rs10816533', '2.48347619421e-20'],\n",
       "       ['rs16966703', '0.0215208824689'],\n",
       "       ['rs2793701', '0.0268116332849'],\n",
       "       ['rs7606245', '0.537427050043']],\n",
       "      dtype='|S17')"
      ]
     },
     "execution_count": 44,
     "metadata": {},
     "output_type": "execute_result"
    }
   ],
   "source": [
    "import scipy.stats as stats\n",
    "\n",
    "pvals = []\n",
    "for feature in features:\n",
    "    t_test = stats.f_oneway(data[data[feature] == 0]['Height'],\n",
    "                            data[data[feature] == 1]['Height'],\n",
    "                            data[data[feature] == 2]['Height'])    \n",
    "    pvals.append([feature, t_test.pvalue])\n",
    "pvals = np.array(pvals)\n",
    "pvals"
   ]
  },
  {
   "cell_type": "code",
   "execution_count": 57,
   "metadata": {
    "collapsed": false
   },
   "outputs": [
    {
     "data": {
      "text/plain": [
       "(array([ True,  True, False, False, False], dtype=bool),\n",
       " array([  1.21786003e-08,   1.24173810e-19,   6.45626474e-02,\n",
       "          6.45626474e-02,   5.37427050e-01]),\n",
       " 0.010206218313011495,\n",
       " 0.01)"
      ]
     },
     "execution_count": 57,
     "metadata": {},
     "output_type": "execute_result"
    }
   ],
   "source": [
    "from statsmodels.stats.multitest import multipletests\n",
    "\n",
    "multipletests(pvals[:, 1].astype(float), is_sorted=False, method='holm')"
   ]
  },
  {
   "cell_type": "markdown",
   "metadata": {},
   "source": [
    "It is statistically significant shown that genes rs7859940 and rs10816533 are connected with height, when other are not."
   ]
  }
 ],
 "metadata": {
  "kernelspec": {
   "display_name": "Python 2",
   "language": "python",
   "name": "python2"
  },
  "language_info": {
   "codemirror_mode": {
    "name": "ipython",
    "version": 2
   },
   "file_extension": ".py",
   "mimetype": "text/x-python",
   "name": "python",
   "nbconvert_exporter": "python",
   "pygments_lexer": "ipython2",
   "version": "2.7.13"
  }
 },
 "nbformat": 4,
 "nbformat_minor": 2
}
