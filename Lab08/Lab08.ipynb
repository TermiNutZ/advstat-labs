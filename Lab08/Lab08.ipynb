{
 "cells": [
  {
   "cell_type": "markdown",
   "metadata": {},
   "source": [
    "# Lab 08\n",
    "## Pavel Oreshin\n",
    "### <a href='https://github.com/TermiNutZ/advstat-labs'> Link to repo </a>"
   ]
  },
  {
   "cell_type": "markdown",
   "metadata": {},
   "source": [
    "# Assignment 1"
   ]
  },
  {
   "cell_type": "code",
   "execution_count": 2,
   "metadata": {
    "collapsed": true
   },
   "outputs": [],
   "source": [
    "import pandas as pd\n",
    "import numpy as np\n",
    "from sklearn.linear_model import LinearRegression"
   ]
  },
  {
   "cell_type": "code",
   "execution_count": 12,
   "metadata": {
    "collapsed": false
   },
   "outputs": [
    {
     "data": {
      "text/plain": [
       "(40, 33)"
      ]
     },
     "execution_count": 12,
     "metadata": {},
     "output_type": "execute_result"
    }
   ],
   "source": [
    "ds_df = pd.read_csv(\"ds-boot-2.csv\", index_col=0, sep='\\t')\n",
    "\n",
    "ds_df.shape"
   ]
  },
  {
   "cell_type": "code",
   "execution_count": 13,
   "metadata": {
    "collapsed": false
   },
   "outputs": [
    {
     "data": {
      "text/html": [
       "<div>\n",
       "<style>\n",
       "    .dataframe thead tr:only-child th {\n",
       "        text-align: right;\n",
       "    }\n",
       "\n",
       "    .dataframe thead th {\n",
       "        text-align: left;\n",
       "    }\n",
       "\n",
       "    .dataframe tbody tr th {\n",
       "        vertical-align: top;\n",
       "    }\n",
       "</style>\n",
       "<table border=\"1\" class=\"dataframe\">\n",
       "  <thead>\n",
       "    <tr style=\"text-align: right;\">\n",
       "      <th></th>\n",
       "      <th>p1</th>\n",
       "      <th>p2</th>\n",
       "      <th>p3</th>\n",
       "      <th>p4</th>\n",
       "      <th>p5</th>\n",
       "      <th>p6</th>\n",
       "      <th>p7</th>\n",
       "      <th>p8</th>\n",
       "      <th>p9</th>\n",
       "      <th>p10</th>\n",
       "      <th>...</th>\n",
       "      <th>p24</th>\n",
       "      <th>p25</th>\n",
       "      <th>p26</th>\n",
       "      <th>p27</th>\n",
       "      <th>p28</th>\n",
       "      <th>y1</th>\n",
       "      <th>y2</th>\n",
       "      <th>y3</th>\n",
       "      <th>y4</th>\n",
       "      <th>y5</th>\n",
       "    </tr>\n",
       "    <tr>\n",
       "      <th>id</th>\n",
       "      <th></th>\n",
       "      <th></th>\n",
       "      <th></th>\n",
       "      <th></th>\n",
       "      <th></th>\n",
       "      <th></th>\n",
       "      <th></th>\n",
       "      <th></th>\n",
       "      <th></th>\n",
       "      <th></th>\n",
       "      <th></th>\n",
       "      <th></th>\n",
       "      <th></th>\n",
       "      <th></th>\n",
       "      <th></th>\n",
       "      <th></th>\n",
       "      <th></th>\n",
       "      <th></th>\n",
       "      <th></th>\n",
       "      <th></th>\n",
       "      <th></th>\n",
       "    </tr>\n",
       "  </thead>\n",
       "  <tbody>\n",
       "    <tr>\n",
       "      <th>11</th>\n",
       "      <td>6.48148</td>\n",
       "      <td>3.0</td>\n",
       "      <td>5.0</td>\n",
       "      <td>7.75000</td>\n",
       "      <td>0.0</td>\n",
       "      <td>7.16667</td>\n",
       "      <td>8.16667</td>\n",
       "      <td>9.66667</td>\n",
       "      <td>6.16667</td>\n",
       "      <td>9.0</td>\n",
       "      <td>...</td>\n",
       "      <td>1.66667</td>\n",
       "      <td>3.16667</td>\n",
       "      <td>0.0</td>\n",
       "      <td>0.00000</td>\n",
       "      <td>0.0</td>\n",
       "      <td>1.0</td>\n",
       "      <td>5.00</td>\n",
       "      <td>7.44</td>\n",
       "      <td>1.18</td>\n",
       "      <td>4.38</td>\n",
       "    </tr>\n",
       "    <tr>\n",
       "      <th>12</th>\n",
       "      <td>5.74074</td>\n",
       "      <td>4.0</td>\n",
       "      <td>8.0</td>\n",
       "      <td>7.33333</td>\n",
       "      <td>8.0</td>\n",
       "      <td>8.83333</td>\n",
       "      <td>9.75000</td>\n",
       "      <td>9.66667</td>\n",
       "      <td>9.00000</td>\n",
       "      <td>10.0</td>\n",
       "      <td>...</td>\n",
       "      <td>2.50000</td>\n",
       "      <td>5.50000</td>\n",
       "      <td>5.0</td>\n",
       "      <td>8.66667</td>\n",
       "      <td>8.0</td>\n",
       "      <td>4.5</td>\n",
       "      <td>4.25</td>\n",
       "      <td>8.93</td>\n",
       "      <td>2.00</td>\n",
       "      <td>6.03</td>\n",
       "    </tr>\n",
       "    <tr>\n",
       "      <th>25</th>\n",
       "      <td>7.59259</td>\n",
       "      <td>7.0</td>\n",
       "      <td>8.0</td>\n",
       "      <td>7.66667</td>\n",
       "      <td>8.0</td>\n",
       "      <td>9.66667</td>\n",
       "      <td>9.50000</td>\n",
       "      <td>6.16667</td>\n",
       "      <td>9.66667</td>\n",
       "      <td>6.5</td>\n",
       "      <td>...</td>\n",
       "      <td>3.50000</td>\n",
       "      <td>3.50000</td>\n",
       "      <td>9.0</td>\n",
       "      <td>6.50000</td>\n",
       "      <td>7.0</td>\n",
       "      <td>7.5</td>\n",
       "      <td>11.00</td>\n",
       "      <td>8.97</td>\n",
       "      <td>2.00</td>\n",
       "      <td>9.12</td>\n",
       "    </tr>\n",
       "    <tr>\n",
       "      <th>31</th>\n",
       "      <td>5.96297</td>\n",
       "      <td>4.0</td>\n",
       "      <td>8.0</td>\n",
       "      <td>9.33333</td>\n",
       "      <td>10.0</td>\n",
       "      <td>9.33333</td>\n",
       "      <td>7.00000</td>\n",
       "      <td>8.50000</td>\n",
       "      <td>9.66667</td>\n",
       "      <td>6.5</td>\n",
       "      <td>...</td>\n",
       "      <td>0.00000</td>\n",
       "      <td>0.00000</td>\n",
       "      <td>0.0</td>\n",
       "      <td>0.00000</td>\n",
       "      <td>0.0</td>\n",
       "      <td>4.0</td>\n",
       "      <td>6.25</td>\n",
       "      <td>8.93</td>\n",
       "      <td>1.82</td>\n",
       "      <td>6.41</td>\n",
       "    </tr>\n",
       "    <tr>\n",
       "      <th>48</th>\n",
       "      <td>5.44444</td>\n",
       "      <td>1.0</td>\n",
       "      <td>3.5</td>\n",
       "      <td>6.41667</td>\n",
       "      <td>9.0</td>\n",
       "      <td>8.50000</td>\n",
       "      <td>7.08333</td>\n",
       "      <td>6.33333</td>\n",
       "      <td>9.00000</td>\n",
       "      <td>7.0</td>\n",
       "      <td>...</td>\n",
       "      <td>0.00000</td>\n",
       "      <td>0.00000</td>\n",
       "      <td>0.0</td>\n",
       "      <td>0.00000</td>\n",
       "      <td>0.0</td>\n",
       "      <td>0.0</td>\n",
       "      <td>3.00</td>\n",
       "      <td>8.08</td>\n",
       "      <td>1.36</td>\n",
       "      <td>3.67</td>\n",
       "    </tr>\n",
       "  </tbody>\n",
       "</table>\n",
       "<p>5 rows × 33 columns</p>\n",
       "</div>"
      ],
      "text/plain": [
       "         p1   p2   p3       p4    p5       p6       p7       p8       p9  \\\n",
       "id                                                                         \n",
       "11  6.48148  3.0  5.0  7.75000   0.0  7.16667  8.16667  9.66667  6.16667   \n",
       "12  5.74074  4.0  8.0  7.33333   8.0  8.83333  9.75000  9.66667  9.00000   \n",
       "25  7.59259  7.0  8.0  7.66667   8.0  9.66667  9.50000  6.16667  9.66667   \n",
       "31  5.96297  4.0  8.0  9.33333  10.0  9.33333  7.00000  8.50000  9.66667   \n",
       "48  5.44444  1.0  3.5  6.41667   9.0  8.50000  7.08333  6.33333  9.00000   \n",
       "\n",
       "     p10  ...       p24      p25  p26      p27  p28   y1     y2    y3    y4  \\\n",
       "id        ...                                                                 \n",
       "11   9.0  ...   1.66667  3.16667  0.0  0.00000  0.0  1.0   5.00  7.44  1.18   \n",
       "12  10.0  ...   2.50000  5.50000  5.0  8.66667  8.0  4.5   4.25  8.93  2.00   \n",
       "25   6.5  ...   3.50000  3.50000  9.0  6.50000  7.0  7.5  11.00  8.97  2.00   \n",
       "31   6.5  ...   0.00000  0.00000  0.0  0.00000  0.0  4.0   6.25  8.93  1.82   \n",
       "48   7.0  ...   0.00000  0.00000  0.0  0.00000  0.0  0.0   3.00  8.08  1.36   \n",
       "\n",
       "      y5  \n",
       "id        \n",
       "11  4.38  \n",
       "12  6.03  \n",
       "25  9.12  \n",
       "31  6.41  \n",
       "48  3.67  \n",
       "\n",
       "[5 rows x 33 columns]"
      ]
     },
     "execution_count": 13,
     "metadata": {},
     "output_type": "execute_result"
    }
   ],
   "source": [
    "ds_df.head()"
   ]
  },
  {
   "cell_type": "markdown",
   "metadata": {},
   "source": [
    "### define boostrap procedure"
   ]
  },
  {
   "cell_type": "code",
   "execution_count": 39,
   "metadata": {
    "collapsed": false
   },
   "outputs": [],
   "source": [
    "def bootstrap(x, B=1000, stat=np.mean):\n",
    "    n = x.shape[0]\n",
    "    xb = np.random.choice(x, (B, n), replace=True)\n",
    "    \n",
    "    xb_stat = stat(xb, axis=1)\n",
    "    xb_stat.sort()\n",
    "\n",
    "    ci = np.percentile(xb_stat, [2.5, 97.5])\n",
    "    \n",
    "    sd = np.std(xb_stat)\n",
    "    \n",
    "    return np.mean(xb_stat), sd"
   ]
  },
  {
   "cell_type": "markdown",
   "metadata": {},
   "source": [
    "### calculate for mean and median"
   ]
  },
  {
   "cell_type": "code",
   "execution_count": 40,
   "metadata": {
    "collapsed": false
   },
   "outputs": [
    {
     "name": "stdout",
     "output_type": "stream",
     "text": [
      "<function mean at 0x7f11b00d0048>\n",
      "y1 :  (4.0041125000000006, 0.43816142127502511)\n",
      "y2 :  (5.514637500000001, 0.56014148031434885)\n",
      "y3 :  (7.3102907500000001, 0.47757277039937845)\n",
      "y4 :  (1.53561525, 0.10840471924661536)\n",
      "y5 :  (5.6312530000000001, 0.44098504395387378)\n",
      "\n",
      "<function median at 0x7f118a9a3d08>\n",
      "y1 :  (4.00875, 0.56390241842006672)\n",
      "y2 :  (6.2220000000000004, 0.65897439252219814)\n",
      "y3 :  (8.3061799999999995, 0.2738750766316646)\n",
      "y4 :  (1.8636349999999997, 0.13081537285426359)\n",
      "y5 :  (6.17835, 0.41144553406252937)\n",
      "\n"
     ]
    }
   ],
   "source": [
    "for stat_func in [np.mean, np.median]:\n",
    "    print(stat_func)\n",
    "    for i in range(1, 6):\n",
    "        print(\"y%s : \"%i, bootstrap(ds_df['y%s' % i], 1000, stat_func))\n",
    "    print()"
   ]
  },
  {
   "cell_type": "markdown",
   "metadata": {},
   "source": [
    "## Linear regression"
   ]
  },
  {
   "cell_type": "code",
   "execution_count": 31,
   "metadata": {
    "collapsed": false
   },
   "outputs": [],
   "source": [
    "df_features = ds_df.drop(['y%s' % i for i in range(1, 6)], axis=1)"
   ]
  },
  {
   "cell_type": "code",
   "execution_count": 158,
   "metadata": {
    "collapsed": false
   },
   "outputs": [],
   "source": [
    "def bootstrap_regression(x, y, B=1000):\n",
    "    n = x.shape[0]\n",
    "    bootstrap_indexes = np.random.choice(range(n), (B, n), replace=True)\n",
    "    \n",
    "    regressor = LinearRegression()\n",
    "    coeffs = []\n",
    "    for row in bootstrap_indexes:\n",
    "        X_train = x.iloc[row]\n",
    "        y = y.iloc[row]\n",
    "        regressor.fit(X_train, y)\n",
    "        coeffs.append(regressor.coef_)\n",
    "\n",
    "    means = np.mean(coeffs, axis=0)\n",
    "    ci = np.percentile(coeffs, [2.5, 97.5], axis=0)\n",
    "    \n",
    "    ci = ci.T\n",
    "    return means, ci\n",
    "    "
   ]
  },
  {
   "cell_type": "markdown",
   "metadata": {},
   "source": [
    "### Will take only part of coefficients cause of overfitting"
   ]
  },
  {
   "cell_type": "code",
   "execution_count": 174,
   "metadata": {
    "collapsed": false
   },
   "outputs": [],
   "source": [
    "means, ci = bootstrap_regression(df_features[['p%s' % i for i in range(1,25)]], ds_df['y1'])"
   ]
  },
  {
   "cell_type": "code",
   "execution_count": 175,
   "metadata": {
    "collapsed": false
   },
   "outputs": [
    {
     "name": "stdout",
     "output_type": "stream",
     "text": [
      "c0 -0.00562479858703 [-0.35562378  0.56418495]\n",
      "c1 -0.0213824078245 [-0.27168889  0.30953548]\n",
      "c2 -0.0035001080899 [-0.54346096  0.47804814]\n",
      "c3 0.0149771809725 [-0.42321221  0.5558626 ]\n",
      "c4 -0.00285152471002 [-0.46730213  0.32042658]\n",
      "c5 0.0566148835726 [-0.6444864  0.4561134]\n",
      "c6 -0.00652427609573 [-0.56768302  0.48075963]\n",
      "c7 0.000558288655654 [-0.4369267   0.38427672]\n",
      "c8 0.00155671441457 [-0.62311336  0.4902558 ]\n",
      "c9 -0.00366975811663 [-0.46733822  0.36755952]\n",
      "c10 -0.00732766098002 [-0.31879944  0.6225743 ]\n",
      "c11 -0.0387270588403 [-0.59881638  0.57318769]\n",
      "c12 0.0220154132789 [-0.41502146  0.42539631]\n",
      "c13 -0.0218728737989 [-0.28992526  0.3490447 ]\n",
      "c14 -0.015118034518 [-0.27381191  0.25049124]\n",
      "c15 0.0179706392263 [-0.21665513  0.23384877]\n",
      "c16 -0.0116212472044 [-0.21412507  0.20234546]\n",
      "c17 0.0229409790862 [-0.24652819  0.29835823]\n",
      "c18 -0.0330563117079 [-0.25476036  0.27400763]\n",
      "c19 0.00898783564605 [-0.30113769  0.34061811]\n",
      "c20 0.0315333739592 [-0.24493732  0.31723801]\n",
      "c21 -0.0268609054663 [-0.26228441  0.23173659]\n",
      "c22 0.017908620011 [-0.17556493  0.21557979]\n",
      "c23 -0.0039438871496 [-0.25908265  0.18511001]\n"
     ]
    }
   ],
   "source": [
    "for i in range(len(means)):\n",
    "    print(\"c%s\" % i, means[i], ci[i])"
   ]
  },
  {
   "cell_type": "markdown",
   "metadata": {
    "collapsed": true
   },
   "source": [
    "# Assignment 2"
   ]
  },
  {
   "cell_type": "code",
   "execution_count": 87,
   "metadata": {
    "collapsed": true
   },
   "outputs": [],
   "source": [
    "from sklearn.metrics import mean_squared_error\n",
    "from scipy.optimize import minimize\n",
    "from tqdm import tqdm"
   ]
  },
  {
   "cell_type": "markdown",
   "metadata": {},
   "source": [
    "### Goel-Okumoto model"
   ]
  },
  {
   "cell_type": "code",
   "execution_count": 88,
   "metadata": {
    "collapsed": true
   },
   "outputs": [],
   "source": [
    "def s_shaped(a, b):\n",
    "    def distrib(t):\n",
    "        return a*(1-np.e**(-b*t))\n",
    "    return distrib"
   ]
  },
  {
   "cell_type": "code",
   "execution_count": 89,
   "metadata": {
    "collapsed": false
   },
   "outputs": [],
   "source": [
    "ds_df = pd.read_csv(\"ds-boot-1.csv\", index_col=0, sep='\\t')"
   ]
  },
  {
   "cell_type": "markdown",
   "metadata": {},
   "source": [
    "### Algorithm for bootstrap: Take half of days and add to found bugs integer from [-2, 2]. <br/>\n",
    "### Then use optimization on mean squared error for our function"
   ]
  },
  {
   "cell_type": "code",
   "execution_count": 112,
   "metadata": {
    "collapsed": false
   },
   "outputs": [
    {
     "name": "stderr",
     "output_type": "stream",
     "text": [
      "\n",
      "  0%|          | 0/1000 [00:00<?, ?it/s]\u001b[A\n",
      "  0%|          | 1/1000 [00:00<10:55,  1.52it/s]\u001b[A\n",
      "  0%|          | 2/1000 [00:01<14:15,  1.17it/s]\u001b[A\n",
      "Exception in thread Thread-12:\n",
      "Traceback (most recent call last):\n",
      "  File \"/home/pavel/anaconda2/envs/Python36/lib/python3.6/threading.py\", line 916, in _bootstrap_inner\n",
      "    self.run()\n",
      "  File \"/home/pavel/anaconda2/envs/Python36/lib/python3.6/site-packages/tqdm/_tqdm.py\", line 144, in run\n",
      "    for instance in self.tqdm_cls._instances:\n",
      "  File \"/home/pavel/anaconda2/envs/Python36/lib/python3.6/_weakrefset.py\", line 60, in __iter__\n",
      "    for itemref in self.data:\n",
      "RuntimeError: Set changed size during iteration\n",
      "\n",
      "100%|██████████| 1000/1000 [10:10<00:00,  1.64it/s]"
     ]
    },
    {
     "name": "stdout",
     "output_type": "stream",
     "text": [
      "a: 14225.724322624412 +- 1.96 * 2535.4618072156272\n",
      "b: (0.0004103678875097642 +- 1.96 * 8.823647879662618e-05)\n"
     ]
    },
    {
     "name": "stderr",
     "output_type": "stream",
     "text": [
      "\n"
     ]
    }
   ],
   "source": [
    "def least_sq_err(vals):\n",
    "    a, b = vals\n",
    "    func = s_shaped(a, b)\n",
    "    predictions = [func(t) for t in np.arange(len(current_cumsum))]\n",
    "    return mean_squared_error(current_cumsum, predictions)\n",
    "\n",
    "\n",
    "#constraints for minimization\n",
    "bnds = ((0, None), (0, 1))\n",
    "\n",
    "\n",
    "B = 1000\n",
    "results_a = []\n",
    "results_b = []\n",
    "change_ind_size = int(0.5 * ds_df.shape[0])\n",
    "for i in tqdm(range(B)):\n",
    "    bugs = ds_df['bugsPerDay'].copy()\n",
    "    \n",
    "    change_indexes = np.random.choice(np.arange(len(bugs)), size=change_ind_size)\n",
    "    \n",
    "    for ind in change_indexes:\n",
    "        bugs.iloc[ind] += np.random.randint(-2, 3)\n",
    "        bugs.iloc[ind] = max(0, bugs.iloc[ind])\n",
    "        \n",
    "    current_cumsum = np.cumsum(bugs)\n",
    "    \n",
    "    result = minimize(least_sq_err, [6000., 0.001], tol=1e-25, bounds=bnds)\n",
    "    a, b = result.x\n",
    "    \n",
    "    results_a.append(a)\n",
    "    results_b.append(b)\n",
    "    \n",
    "print(\"a: {} +- 1.96 * {}\".format(np.mean(results_a), np.std(results_a)))\n",
    "print(\"b: ({} +- 1.96 * {})\".format(np.mean(results_b), np.std(results_b)))"
   ]
  }
 ],
 "metadata": {
  "kernelspec": {
   "display_name": "Python 3_6",
   "language": "python",
   "name": "myenv"
  },
  "language_info": {
   "codemirror_mode": {
    "name": "ipython",
    "version": 3
   },
   "file_extension": ".py",
   "mimetype": "text/x-python",
   "name": "python",
   "nbconvert_exporter": "python",
   "pygments_lexer": "ipython3",
   "version": "3.6.2"
  }
 },
 "nbformat": 4,
 "nbformat_minor": 2
}
