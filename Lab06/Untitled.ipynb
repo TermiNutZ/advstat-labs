{
 "cells": [
  {
   "cell_type": "code",
   "execution_count": 5,
   "metadata": {
    "collapsed": true
   },
   "outputs": [],
   "source": [
    "import numpy as np\n",
    "from scipy.stats import kstest"
   ]
  },
  {
   "cell_type": "code",
   "execution_count": 29,
   "metadata": {
    "collapsed": true
   },
   "outputs": [],
   "source": [
    "sample_size = 20\n",
    "normal_data = np.random.normal(size=sample_size)\n",
    "laplace_data = np.random.laplace(size=sample_size)\n",
    "t_data = np.random.standard_t(3, size=sample_size)\n",
    "lognormal_data = np.random.lognormal(size=sample_size)"
   ]
  },
  {
   "cell_type": "code",
   "execution_count": 28,
   "metadata": {
    "collapsed": false
   },
   "outputs": [
    {
     "data": {
      "text/plain": [
       "KstestResult(statistic=0.032579534208694527, pvalue=0.23422848074691616)"
      ]
     },
     "execution_count": 28,
     "metadata": {},
     "output_type": "execute_result"
    }
   ],
   "source": [
    "kstest(normal_data, 'norm')"
   ]
  },
  {
   "cell_type": "code",
   "execution_count": null,
   "metadata": {
    "collapsed": true
   },
   "outputs": [],
   "source": [
    "def my_kstest(data):\n",
    "    sorted_data = sort(data)\n",
    "    D = - 10000000000\n",
    "    prev = -100000000000\n",
    "    cur_count = 0\n",
    "    cum_count = 0\n",
    "    for i in xrange(len(data)):\n",
    "        yi = data[i]\n",
    "        \n",
    "        if yi == prev:\n",
    "            cur_count += 1\n",
    "        else:\n",
    "            cum_count += cur_count"
   ]
  }
 ],
 "metadata": {
  "kernelspec": {
   "display_name": "Python 2",
   "language": "python",
   "name": "python2"
  },
  "language_info": {
   "codemirror_mode": {
    "name": "ipython",
    "version": 2
   },
   "file_extension": ".py",
   "mimetype": "text/x-python",
   "name": "python",
   "nbconvert_exporter": "python",
   "pygments_lexer": "ipython2",
   "version": "2.7.13"
  }
 },
 "nbformat": 4,
 "nbformat_minor": 2
}
